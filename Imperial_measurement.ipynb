{
 "cells": [
  {
   "cell_type": "markdown",
   "id": "d3ca8123-41ff-48cc-b7e9-9151af249b0c",
   "metadata": {},
   "source": [
    "## Imperial Measurement Converter"
   ]
  },
  {
   "cell_type": "code",
   "execution_count": 57,
   "id": "4176090b-0934-4866-89a0-49f399941e92",
   "metadata": {},
   "outputs": [
    {
     "name": "stdin",
     "output_type": "stream",
     "text": [
      "Enter Starting Unit of Measurement (inches, feet, yards): yards\n",
      "Enter Unit of Measurement to convert to (inches, feet, yards): feet\n",
      "Enter Starting Measurement in Yards: asdfdf\n"
     ]
    },
    {
     "ename": "ValueError",
     "evalue": "invalid literal for int() with base 10: 'asdfdf'",
     "output_type": "error",
     "traceback": [
      "\u001b[1;31m---------------------------------------------------------------------------\u001b[0m",
      "\u001b[1;31mValueError\u001b[0m                                Traceback (most recent call last)",
      "Cell \u001b[1;32mIn[57], line 29\u001b[0m\n\u001b[0;32m     27\u001b[0m     \u001b[38;5;28mprint\u001b[39m(\u001b[38;5;28mint\u001b[39m(number_of_yards)\u001b[38;5;241m*\u001b[39m\u001b[38;5;241m36\u001b[39m, \u001b[38;5;124m\"\u001b[39m\u001b[38;5;124mInches\u001b[39m\u001b[38;5;124m\"\u001b[39m)\n\u001b[0;32m     28\u001b[0m \u001b[38;5;28;01melif\u001b[39;00m convert_to \u001b[38;5;129;01min\u001b[39;00m [\u001b[38;5;124m\"\u001b[39m\u001b[38;5;124mfeet\u001b[39m\u001b[38;5;124m\"\u001b[39m, \u001b[38;5;124m\"\u001b[39m\u001b[38;5;124mft\u001b[39m\u001b[38;5;124m\"\u001b[39m, \u001b[38;5;124m\"\u001b[39m\u001b[38;5;124mFeet\u001b[39m\u001b[38;5;124m\"\u001b[39m]:\n\u001b[1;32m---> 29\u001b[0m     \u001b[38;5;28mprint\u001b[39m(\u001b[38;5;28mint\u001b[39m(number_of_yards)\u001b[38;5;241m*\u001b[39m\u001b[38;5;241m3\u001b[39m, \u001b[38;5;124m\"\u001b[39m\u001b[38;5;124mFeet\u001b[39m\u001b[38;5;124m\"\u001b[39m)\n\u001b[0;32m     30\u001b[0m \u001b[38;5;28;01melse\u001b[39;00m:\n\u001b[0;32m     31\u001b[0m     \u001b[38;5;28mprint\u001b[39m(\u001b[38;5;124m\"\u001b[39m\u001b[38;5;124mError! Double check your entered values and try again!\u001b[39m\u001b[38;5;124m\"\u001b[39m)\n",
      "\u001b[1;31mValueError\u001b[0m: invalid literal for int() with base 10: 'asdfdf'"
     ]
    }
   ],
   "source": [
    "convert_from = input('Enter Starting Unit of Measurement (inches, feet, yards):')\n",
    "\n",
    "convert_to = input('Enter Unit of Measurement to convert to (inches, feet, yards):')\n",
    "\n",
    "if convert_from in [\"inches\", \"in\", \"Inches\"]:\n",
    "    number_of_inches = input(\"Enter Starting Measurement in Inches:\")\n",
    "    if convert_to in [\"feet\", \"ft\", \"Feet\"]:\n",
    "        print(int(number_of_inches)/12, \"Feet\")\n",
    "    elif convert_to in [\"yards\", \"Yards\", \"yd\"] :\n",
    "        print(int(number_of_inches)/36, \"Yards\")\n",
    "    else:\n",
    "        print(\"Error! Double check your entered values!\")\n",
    "\n",
    "\n",
    "elif convert_from in [\"feet\", \"ft\", \"Feet\"]:\n",
    "    number_of_feet = input(\"Enter Starting Measurement in Feet:\")\n",
    "    if convert_to in [\"inches\", \"in\", \"Inches\"]:\n",
    "        print(int(number_of_feet)*12, \"Inches\")\n",
    "    elif convert_to in [\"yards\", \"Yards\", \"yd\"]:\n",
    "        print(int(number_of_feet)/3, \"Yards\")\n",
    "    else:\n",
    "        print(\"Error! Double check your entered values!\")\n",
    "\n",
    "elif convert_from in [\"yards\", \"Yards\", \"yd\"]:\n",
    "    number_of_yards = input(\"Enter Starting Measurement in Yards:\")\n",
    "    if convert_to in [\"inches\", \"in\", \"Inches\"]:\n",
    "        print(int(number_of_yards)*36, \"Inches\")\n",
    "    elif convert_to in [\"feet\", \"ft\", \"Feet\"]:\n",
    "        print(int(number_of_yards)*3, \"Feet\")\n",
    "    else:\n",
    "        print(\"Error! Double check your entered values and try again!\")\n",
    "    \n",
    "else:\n",
    "    print(\"Error! Double check your entered values and try again!\")\n",
    "\n",
    "\n",
    "\n"
   ]
  },
  {
   "cell_type": "code",
   "execution_count": null,
   "id": "a4353bbf-a706-4b1c-a508-74d42735609f",
   "metadata": {},
   "outputs": [],
   "source": []
  }
 ],
 "metadata": {
  "kernelspec": {
   "display_name": "Python 3 (ipykernel)",
   "language": "python",
   "name": "python3"
  },
  "language_info": {
   "codemirror_mode": {
    "name": "ipython",
    "version": 3
   },
   "file_extension": ".py",
   "mimetype": "text/x-python",
   "name": "python",
   "nbconvert_exporter": "python",
   "pygments_lexer": "ipython3",
   "version": "3.11.7"
  }
 },
 "nbformat": 4,
 "nbformat_minor": 5
}
