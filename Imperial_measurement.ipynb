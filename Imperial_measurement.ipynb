{
 "cells": [
  {
   "cell_type": "markdown",
   "id": "d3ca8123-41ff-48cc-b7e9-9151af249b0c",
   "metadata": {},
   "source": [
    "## Imperial Measurement Converter"
   ]
  },
  {
   "cell_type": "code",
   "execution_count": 61,
   "id": "4176090b-0934-4866-89a0-49f399941e92",
   "metadata": {},
   "outputs": [
    {
     "name": "stdin",
     "output_type": "stream",
     "text": [
      "Enter Starting Unit of Measurement (inches, feet, yards): inches\n",
      "Enter Unit of Measurement to convert to (inches, feet, yards): feet\n",
      "Enter Starting Measurement in Inches: 48\n"
     ]
    },
    {
     "name": "stdout",
     "output_type": "stream",
     "text": [
      "4.0 Feet\n"
     ]
    }
   ],
   "source": [
    "convert_from = input('Enter Starting Unit of Measurement (inches, feet, yards):')\n",
    "\n",
    "convert_to = input('Enter Unit of Measurement to convert to (inches, feet, yards):')\n",
    "\n",
    "if convert_from in [\"inches\", \"in\", \"Inches\"]:\n",
    "    number_of_inches = input(\"Enter Starting Measurement in Inches:\")\n",
    "    if convert_to in [\"feet\", \"ft\", \"Feet\"]:\n",
    "        print(int(number_of_inches)/12, \"Feet\")\n",
    "    elif convert_to in [\"yards\", \"Yards\", \"yd\"] :\n",
    "        print(int(number_of_inches)/36, \"Yards\")\n",
    "    else:\n",
    "        print(\"Error! Double check your entered values!\")\n",
    "\n",
    "\n",
    "elif convert_from in [\"feet\", \"ft\", \"Feet\"]:\n",
    "    number_of_feet = input(\"Enter Starting Measurement in Feet:\")\n",
    "    if convert_to in [\"inches\", \"in\", \"Inches\"]:\n",
    "        print(int(number_of_feet)*12, \"Inches\")\n",
    "    elif convert_to in [\"yards\", \"Yards\", \"yd\"]:\n",
    "        print(int(number_of_feet)/3, \"Yards\")\n",
    "    else:\n",
    "        print(\"Error! Double check your entered values!\")\n",
    "\n",
    "elif convert_from in [\"yards\", \"Yards\", \"yd\"]:\n",
    "    number_of_yards = input(\"Enter Starting Measurement in Yards:\")\n",
    "    if convert_to in [\"inches\", \"in\", \"Inches\"]:\n",
    "        print(int(number_of_yards)*36, \"Inches\")\n",
    "    elif convert_to in [\"feet\", \"ft\", \"Feet\"]:\n",
    "        print(int(number_of_yards)*3, \"Feet\")\n",
    "    else:\n",
    "        print(\"Error! Double check your entered values and try again!\")\n",
    "    \n",
    "else:\n",
    "    print(\"Error! Double check your entered values and try again!\")\n",
    "\n",
    "\n",
    "\n"
   ]
  },
  {
   "cell_type": "code",
   "execution_count": null,
   "id": "a4353bbf-a706-4b1c-a508-74d42735609f",
   "metadata": {},
   "outputs": [],
   "source": []
  }
 ],
 "metadata": {
  "kernelspec": {
   "display_name": "Python 3 (ipykernel)",
   "language": "python",
   "name": "python3"
  },
  "language_info": {
   "codemirror_mode": {
    "name": "ipython",
    "version": 3
   },
   "file_extension": ".py",
   "mimetype": "text/x-python",
   "name": "python",
   "nbconvert_exporter": "python",
   "pygments_lexer": "ipython3",
   "version": "3.11.7"
  }
 },
 "nbformat": 4,
 "nbformat_minor": 5
}
