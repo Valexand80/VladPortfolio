{
 "cells": [
  {
   "cell_type": "markdown",
   "id": "c50680bd-f998-43bb-941d-65edf7d0ab7d",
   "metadata": {},
   "source": [
    "### Let's make a very simple calculator! "
   ]
  },
  {
   "cell_type": "code",
   "execution_count": 49,
   "id": "1fe5fcba-a40b-4f0e-bf03-014d9fdc223b",
   "metadata": {},
   "outputs": [],
   "source": [
    "def add(x, y):\n",
    "    return (x + y) \n",
    "\n",
    "def subtract(x, y):\n",
    "    return (x - y) \n",
    "\n",
    "def divide(x, y):\n",
    "    return (x / y)\n",
    "\n",
    "def multiply(x, y):\n",
    "    return (x * y)\n",
    "\n"
   ]
  },
  {
   "cell_type": "code",
   "execution_count": 55,
   "id": "5209ccbc-86f5-43e8-81c5-b1aa43567978",
   "metadata": {},
   "outputs": [
    {
     "name": "stdin",
     "output_type": "stream",
     "text": [
      "Enter Choice: (A,S,M,D):  A\n",
      "Enter first number:  10\n",
      "Enter second number 20\n"
     ]
    },
    {
     "name": "stdout",
     "output_type": "stream",
     "text": [
      "30.0\n"
     ]
    },
    {
     "name": "stdin",
     "output_type": "stream",
     "text": [
      "Another calcualtion? (yes/no) yes\n",
      "Enter first number:  10\n",
      "Enter second number 20\n"
     ]
    },
    {
     "name": "stdout",
     "output_type": "stream",
     "text": [
      "30.0\n"
     ]
    },
    {
     "name": "stdin",
     "output_type": "stream",
     "text": [
      "Another calcualtion? (yes/no) no\n"
     ]
    }
   ],
   "source": [
    "choice = input('Enter Choice: (A,S,M,D): ') \n",
    "\n",
    "\n",
    "while True:\n",
    "    \n",
    "    if choice.upper() in ('A', 'ADD', 'S', 'SUBTRACT', 'M', 'MULTIPLY', 'D', 'DIVIDE'):\n",
    "        number1 = float(input('Enter first number: '))\n",
    "        number2 = float(input('Enter second number'))\n",
    "    \n",
    "        if choice.upper() in ('A', 'ADD'):\n",
    "            print (add(number1, number2))  \n",
    "        elif choice.upper() in ('S', 'SUBTRACT'):\n",
    "            print (subtract(number1, number2))  \n",
    "        elif choice.upper() in ('M', 'MULTIPLY'):\n",
    "            print (multiply(number1, number2))  \n",
    "        elif choice.upper() in ('D', 'DIVIDE'):\n",
    "            print (divide(number1, number2))  \n",
    "    \n",
    "    \n",
    "    else: \n",
    "       print('Double check your input and try again!!')   \n",
    "\n",
    "    next_step = input(\"Another calcualtion? (yes/no)\")\n",
    "    if next_step == 'yes':\n",
    "        continue\n",
    "    else: \n",
    "        break \n"
   ]
  },
  {
   "cell_type": "code",
   "execution_count": null,
   "id": "62ce9c72-4453-4890-a434-e9a0cf559e85",
   "metadata": {},
   "outputs": [],
   "source": []
  },
  {
   "cell_type": "code",
   "execution_count": null,
   "id": "2f96cea7-5653-41b9-a422-e539ee245f32",
   "metadata": {},
   "outputs": [],
   "source": []
  },
  {
   "cell_type": "code",
   "execution_count": null,
   "id": "7b7b28a5-c213-45f3-ab99-794a47729d7a",
   "metadata": {},
   "outputs": [],
   "source": []
  },
  {
   "cell_type": "code",
   "execution_count": null,
   "id": "94c53004-ef9b-4c3b-9c42-a8f7ca882225",
   "metadata": {},
   "outputs": [],
   "source": []
  }
 ],
 "metadata": {
  "kernelspec": {
   "display_name": "Python 3 (ipykernel)",
   "language": "python",
   "name": "python3"
  },
  "language_info": {
   "codemirror_mode": {
    "name": "ipython",
    "version": 3
   },
   "file_extension": ".py",
   "mimetype": "text/x-python",
   "name": "python",
   "nbconvert_exporter": "python",
   "pygments_lexer": "ipython3",
   "version": "3.11.7"
  }
 },
 "nbformat": 4,
 "nbformat_minor": 5
}
